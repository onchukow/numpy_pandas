{
 "cells": [
  {
   "cell_type": "code",
   "execution_count": 62,
   "metadata": {},
   "outputs": [],
   "source": [
    "\"\"\"\n",
    "Задание 1\n",
    "Импортируйте библиотеку Numpy и дайте ей псевдоним np.\n",
    "Создайте массив Numpy под названием a размером 5x2, то есть состоящий из 5 строк и 2 столбцов. Первый столбец должен\n",
    "содержать числа 1, 2, 3, 3, 1, а второй - числа 6, 8, 11, 10, 7. Будем считать, что каждый столбец - это признак,\n",
    "а строка - наблюдение. Затем найдите среднее значение по каждому признаку, используя метод mean массива Numpy.\n",
    "Результат запишите в массив mean_a, в нем должно быть 2 элемента.\n",
    "\"\"\"\n",
    "\n",
    "import numpy as np\n",
    "\n",
    "task_array = np.array([[1,2,3,3,1],[6,8,11,10,7]])"
   ]
  },
  {
   "cell_type": "code",
   "execution_count": 229,
   "metadata": {},
   "outputs": [
    {
     "name": "stdout",
     "output_type": "stream",
     "text": [
      "Average result:  [2.  8.4]\n"
     ]
    }
   ],
   "source": [
    "a = task_array.transpose()\n",
    "mean_a = np.mean(a, axis = 0)\n",
    "print('Average result: ', mean_a)"
   ]
  },
  {
   "cell_type": "code",
   "execution_count": 234,
   "metadata": {},
   "outputs": [
    {
     "name": "stdout",
     "output_type": "stream",
     "text": [
      "Values minus average: \n",
      " [[-1.  -2.4]\n",
      " [ 0.  -0.4]\n",
      " [ 1.   2.6]\n",
      " [ 1.   1.6]\n",
      " [-1.  -1.4]]\n"
     ]
    }
   ],
   "source": [
    "'''\n",
    "Вычислите массив a_centered, отняв от значений массива “а” средние значения соответствующих признаков, содержащиеся \n",
    "в массиве mean_a. Вычисление должно производиться в одно действие. Получившийся массив должен иметь размер 5x2.\n",
    "'''\n",
    "\n",
    "a_centered = a - mean_a\n",
    "print ('Values minus average: \\n', a_centered)"
   ]
  },
  {
   "cell_type": "code",
   "execution_count": 250,
   "metadata": {},
   "outputs": [
    {
     "name": "stdout",
     "output_type": "stream",
     "text": [
      "Vector's scalar product:  8.0\n",
      "Scalar product divided on number of observations:  2.0\n"
     ]
    }
   ],
   "source": [
    "'''\n",
    "Найдите скалярное произведение столбцов массива a_centered. В результате должна получиться величина a_centered_sp. \n",
    "Затем поделите a_centered_sp на N-1, где N - число наблюдений.\n",
    "'''\n",
    "\n",
    "a_centered_sp = np.dot((a_centered.transpose()[0]),(a_centered.transpose()[1]))\n",
    "print('Vector\\'s scalar product: ', a_centered_sp)\n",
    "\n",
    "a_centered_sp /= (a.shape[0] - 1)\n",
    "print('Scalar product divided on number of observations: ', a_centered_sp)"
   ]
  },
  {
   "cell_type": "code",
   "execution_count": 257,
   "metadata": {},
   "outputs": [
    {
     "name": "stdout",
     "output_type": "stream",
     "text": [
      "The result of covariance is TRUE\n"
     ]
    }
   ],
   "source": [
    "'''\n",
    "В этом задании проверьте получившееся число, вычислив ковариацию еще одним способом - с помощью функции np.cov. \n",
    "В качестве аргумента m функция np.cov должна принимать транспонированный массив “a”. \n",
    "В получившейся ковариационной матрице (массив Numpy размером 2x2) искомое значение ковариации будет равно элементу \n",
    "в строке с индексом 0 и столбце с индексом 1.\n",
    "'''\n",
    "\n",
    "covr = np.cov(a.transpose()[0], a.transpose()[1])\n",
    "if covr[0][1] == a_centered_sp:\n",
    "    print ('The result of covariance is TRUE')\n",
    "else:\n",
    "    print ('Somewhere a mistake in solving')"
   ]
  }
 ],
 "metadata": {
  "kernelspec": {
   "display_name": "Python 3",
   "language": "python",
   "name": "python3"
  },
  "language_info": {
   "codemirror_mode": {
    "name": "ipython",
    "version": 3
   },
   "file_extension": ".py",
   "mimetype": "text/x-python",
   "name": "python",
   "nbconvert_exporter": "python",
   "pygments_lexer": "ipython3",
   "version": "3.8.3"
  }
 },
 "nbformat": 4,
 "nbformat_minor": 4
}
